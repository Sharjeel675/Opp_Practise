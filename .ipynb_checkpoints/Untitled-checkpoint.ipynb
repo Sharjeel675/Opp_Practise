{
 "cells": [
  {
   "cell_type": "code",
   "execution_count": 2,
   "id": "cf950660",
   "metadata": {},
   "outputs": [
    {
     "name": "stdout",
     "output_type": "stream",
     "text": [
      "Please Enter Your Id: BAI-22S-035\n",
      "Please Enter Your Name: Sharjeel Ahmed Khan\n",
      "Please Enter Your Salary: 45000\n",
      "Employee.id BAI-22S-035\n",
      "Employee name Sharjeel Ahmed Khan\n",
      "Employee Salary 45000.0\n"
     ]
    }
   ],
   "source": [
    "class Employee:\n",
    "    def Input_data(self):\n",
    "        self.id = str(input(\"Please Enter Your Id: \"))\n",
    "        self.name = str(input(\"Please Enter Your Name: \"))\n",
    "        self.salary = float(input(\"Please Enter Your Salary: \"))\n",
    "    def display(self):\n",
    "        print('Employee.id',self.id)\n",
    "        print('Employee name',self.name)\n",
    "        print('Employee Salary',self.salary)\n",
    "x = Employee()\n",
    "x.Input_data()\n",
    "x.display()"
   ]
  },
  {
   "cell_type": "code",
   "execution_count": 1,
   "id": "8efbcf00",
   "metadata": {},
   "outputs": [
    {
     "name": "stdout",
     "output_type": "stream",
     "text": [
      "Rodger is a mammal\n",
      "Tommy is also a mammal\n",
      "My name is Rodger\n",
      "My name is Tommy\n"
     ]
    }
   ],
   "source": [
    "class Dog:\n",
    "\n",
    "    # class attribute\n",
    "    attr1 = \"mammal\"\n",
    "\n",
    "    # Instance attribute\n",
    "    def __init__(self, name):\n",
    "        self.name = name\n",
    "\n",
    "# Driver code\n",
    "# Object instantiation\n",
    "Rodger = Dog(\"Rodger\")\n",
    "Tommy = Dog(\"Tommy\")\n",
    "\n",
    "# Accessing class attributes\n",
    "print(\"Rodger is a {}\".format(Rodger.__class__.attr1))\n",
    "print(\"Tommy is also a {}\".format(Tommy.__class__.attr1))\n",
    "\n",
    "# Accessing instance attributes\n",
    "print(\"My name is {}\".format(Rodger.name))\n",
    "print(\"My name is {}\".format(Tommy.name))\n"
   ]
  },
  {
   "cell_type": "code",
   "execution_count": 1,
   "id": "af9d27da",
   "metadata": {},
   "outputs": [
    {
     "name": "stdout",
     "output_type": "stream",
     "text": [
      "Rodger is a mammal\n",
      "Tommy is also a mammal\n",
      "My name is Rodger\n",
      "My name is Tommy\n"
     ]
    }
   ],
   "source": [
    "class Dog:\n",
    "\n",
    "    # class attribute\n",
    "    attr1 = \"mammal\"\n",
    "\n",
    "    # Instance attribute\n",
    "    def __init__(self, name):\n",
    "        self.name = name\n",
    "\n",
    "# Driver code\n",
    "# Object instantiation\n",
    "Rodger = Dog(\"Rodger\")\n",
    "Tommy = Dog(\"Tommy\")\n",
    "\n",
    "# Accessing class attributes\n",
    "print(\"Rodger is a {}\".format(Rodger.__class__.attr1))\n",
    "print(\"Tommy is also a {}\".format(Tommy.__class__.attr1))\n",
    "\n",
    "# Accessing instance attributes\n",
    "print(\"My name is {}\".format(Rodger.name))\n",
    "print(\"My name is {}\".format(Tommy.name))\n"
   ]
  },
  {
   "cell_type": "code",
   "execution_count": 1,
   "id": "fba58002",
   "metadata": {},
   "outputs": [
    {
     "name": "stdout",
     "output_type": "stream",
     "text": [
      "76\n"
     ]
    }
   ],
   "source": [
    "a = [10, 24, 76, 23, 12]\n",
    "\n",
    "# Max() will return the largest in 'a'\n",
    "largest = max(a)\n",
    "print(largest)"
   ]
  },
  {
   "cell_type": "code",
   "execution_count": 1,
   "id": "641e06aa",
   "metadata": {},
   "outputs": [
    {
     "name": "stdout",
     "output_type": "stream",
     "text": [
      "b is not greater than a\n"
     ]
    }
   ],
   "source": [
    "a = 200\n",
    "b = 33\n",
    "\n",
    "if b > a:\n",
    "  print(\"b is greater than a\")\n",
    "else:\n",
    "  print(\"b is not greater than a\")"
   ]
  },
  {
   "cell_type": "code",
   "execution_count": 1,
   "id": "e287e457",
   "metadata": {},
   "outputs": [
    {
     "name": "stdout",
     "output_type": "stream",
     "text": [
      "29 is a prime number\n"
     ]
    }
   ],
   "source": [
    "# Program to check if a number is prime or not\n",
    "\n",
    "num = 29\n",
    "\n",
    "# To take input from the user\n",
    "#num = int(input(\"Enter a number: \"))\n",
    "\n",
    "# define a flag variable\n",
    "flag = False\n",
    "\n",
    "if num == 0 or num == 1:\n",
    "    print(num, \"is not a prime number\")\n",
    "elif num > 1:\n",
    "    # check for factors\n",
    "    for i in range(2, num):\n",
    "        if (num % i) == 0:\n",
    "            # if factor is found, set flag to True\n",
    "            flag = True\n",
    "            # break out of loop\n",
    "            break\n",
    "\n",
    "    # check if flag is True\n",
    "    if flag:\n",
    "        print(num, \"is not a prime number\")\n",
    "    else:\n",
    "        print(num, \"is a prime number\")"
   ]
  },
  {
   "cell_type": "code",
   "execution_count": 1,
   "id": "5aec5c28",
   "metadata": {},
   "outputs": [
    {
     "name": "stdout",
     "output_type": "stream",
     "text": [
      "I have 3 sides\n",
      "I have 4 sides\n",
      "I have 5 sides\n",
      "I have 6 sides\n"
     ]
    }
   ],
   "source": [
    "# Python program showing\n",
    "# abstract base class work\n",
    "from abc import ABC, abstractmethod\n",
    "\n",
    "\n",
    "class Polygon(ABC):\n",
    "\n",
    "    @abstractmethod\n",
    "    def noofsides(self):\n",
    "        pass\n",
    "\n",
    "\n",
    "class Triangle(Polygon):\n",
    "\n",
    "    # overriding abstract method\n",
    "    def noofsides(self):\n",
    "        print(\"I have 3 sides\")\n",
    "\n",
    "\n",
    "class Pentagon(Polygon):\n",
    "\n",
    "    # overriding abstract method\n",
    "    def noofsides(self):\n",
    "        print(\"I have 5 sides\")\n",
    "\n",
    "\n",
    "class Hexagon(Polygon):\n",
    "\n",
    "    # overriding abstract method\n",
    "    def noofsides(self):\n",
    "        print(\"I have 6 sides\")\n",
    "\n",
    "\n",
    "class Quadrilateral(Polygon):\n",
    "\n",
    "    # overriding abstract method\n",
    "    def noofsides(self):\n",
    "        print(\"I have 4 sides\")\n",
    "\n",
    "\n",
    "# Driver code\n",
    "R = Triangle()\n",
    "R.noofsides()\n",
    "\n",
    "K = Quadrilateral()\n",
    "K.noofsides()\n",
    "\n",
    "R = Pentagon()\n",
    "R.noofsides()\n",
    "\n",
    "K = Hexagon()\n",
    "K.noofsides()"
   ]
  },
  {
   "cell_type": "code",
   "execution_count": 1,
   "id": "667e4737",
   "metadata": {},
   "outputs": [
    {
     "name": "stdout",
     "output_type": "stream",
     "text": [
      "Calling protected member of base class:  2\n",
      "Calling modified protected member outside class:  3\n",
      "Accessing protected member of obj1:  3\n",
      "Accessing protected member of obj2:  2\n"
     ]
    }
   ],
   "source": [
    "# Python program to\n",
    "# demonstrate protected members\n",
    "\n",
    "# Creating a base class\n",
    "class Base:\n",
    "    def __init__(self):\n",
    "\n",
    "        # Protected member\n",
    "        self._a = 2\n",
    "\n",
    "# Creating a derived class\n",
    "class Derived(Base):\n",
    "    def __init__(self):\n",
    "\n",
    "        # Calling constructor of\n",
    "        # Base class\n",
    "        Base.__init__(self)\n",
    "        print(\"Calling protected member of base class: \", \n",
    "              self._a)\n",
    "\n",
    "        # Modify the protected variable:\n",
    "        self._a = 3\n",
    "        print(\"Calling modified protected member outside class: \",\n",
    "              self._a)\n",
    "\n",
    "\n",
    "obj1 = Derived()\n",
    "\n",
    "obj2 = Base()\n",
    "\n",
    "# Calling protected member\n",
    "# Can be accessed but should not be done due to convention\n",
    "print(\"Accessing protected member of obj1: \", obj1._a)\n",
    "\n",
    "# Accessing the protected variable outside\n",
    "print(\"Accessing protected member of obj2: \", obj2._a)"
   ]
  },
  {
   "cell_type": "code",
   "execution_count": 1,
   "id": "db5fc870",
   "metadata": {},
   "outputs": [
    {
     "name": "stdout",
     "output_type": "stream",
     "text": [
      "Rodger is a mammal\n",
      "Tommy is also a mammal\n",
      "My name is Rodger\n",
      "My name is Tommy\n"
     ]
    }
   ],
   "source": [
    "class Dog:\n",
    "\n",
    "    # class attribute\n",
    "    attr1 = \"mammal\"\n",
    "\n",
    "    # Instance attribute\n",
    "    def __init__(self, name):\n",
    "        self.name = name\n",
    "\n",
    "# Driver code\n",
    "# Object instantiation\n",
    "Rodger = Dog(\"Rodger\")\n",
    "Tommy = Dog(\"Tommy\")\n",
    "\n",
    "# Accessing class attributes\n",
    "print(\"Rodger is a {}\".format(Rodger.__class__.attr1))\n",
    "print(\"Tommy is also a {}\".format(Tommy.__class__.attr1))\n",
    "\n",
    "# Accessing instance attributes\n",
    "print(\"My name is {}\".format(Rodger.name))\n",
    "print(\"My name is {}\".format(Tommy.name))"
   ]
  },
  {
   "cell_type": "code",
   "execution_count": 1,
   "id": "655bd46a",
   "metadata": {},
   "outputs": [
    {
     "name": "stdout",
     "output_type": "stream",
     "text": [
      "John Doe\n"
     ]
    }
   ],
   "source": [
    "class Person:\n",
    "  def __init__(self, fname, lname):\n",
    "    self.firstname = fname\n",
    "    self.lastname = lname\n",
    "\n",
    "  def printname(self):\n",
    "    print(self.firstname, self.lastname)\n",
    "\n",
    "#Use the Person class to create an object, and then execute the printname method:\n",
    "\n",
    "x = Person(\"John\", \"Doe\")\n",
    "x.printname()"
   ]
  },
  {
   "cell_type": "code",
   "execution_count": 1,
   "id": "5945a49f",
   "metadata": {},
   "outputs": [
    {
     "name": "stdout",
     "output_type": "stream",
     "text": [
      "Rodger is a mammal\n",
      "Tommy is also a mammal\n",
      "My name is Rodger\n",
      "My name is Tommy\n"
     ]
    }
   ],
   "source": [
    "class Dog:\n",
    "\n",
    "    # class attribute\n",
    "    attr1 = \"mammal\"\n",
    "\n",
    "    # Instance attribute\n",
    "    def __init__(self, name):\n",
    "        self.name = name\n",
    "\n",
    "# Driver code\n",
    "# Object instantiation\n",
    "Rodger = Dog(\"Rodger\")\n",
    "Tommy = Dog(\"Tommy\")\n",
    "\n",
    "# Accessing class attributes\n",
    "print(\"Rodger is a {}\".format(Rodger.__class__.attr1))\n",
    "print(\"Tommy is also a {}\".format(Tommy.__class__.attr1))\n",
    "\n",
    "# Accessing instance attributes\n",
    "print(\"My name is {}\".format(Rodger.name))\n",
    "print(\"My name is {}\".format(Tommy.name))"
   ]
  },
  {
   "cell_type": "code",
   "execution_count": 1,
   "id": "02093277",
   "metadata": {},
   "outputs": [
    {
     "name": "stdout",
     "output_type": "stream",
     "text": [
      "Rodger is a mammal\n",
      "Tommy is also a mammal\n",
      "My name is Rodger\n",
      "My name is Tommy\n"
     ]
    }
   ],
   "source": [
    "class Dog:\n",
    "\n",
    "    # class attribute\n",
    "    attr1 = \"mammal\"\n",
    "\n",
    "    # Instance attribute\n",
    "    def __init__(self, name):\n",
    "        self.name = name\n",
    "\n",
    "# Driver code\n",
    "# Object instantiation\n",
    "Rodger = Dog(\"Rodger\")\n",
    "Tommy = Dog(\"Tommy\")\n",
    "\n",
    "# Accessing class attributes\n",
    "print(\"Rodger is a {}\".format(Rodger.__class__.attr1))\n",
    "print(\"Tommy is also a {}\".format(Tommy.__class__.attr1))\n",
    "\n",
    "# Accessing instance attributes\n",
    "print(\"My name is {}\".format(Rodger.name))\n",
    "print(\"My name is {}\".format(Tommy.name))"
   ]
  },
  {
   "cell_type": "code",
   "execution_count": 1,
   "id": "1b673033",
   "metadata": {},
   "outputs": [
    {
     "name": "stdout",
     "output_type": "stream",
     "text": [
      "Rodger is a mammal\n",
      "Tommy is also a mammal\n",
      "My name is Rodger\n",
      "My name is Tommy\n"
     ]
    }
   ],
   "source": [
    "class Dog:\n",
    "\n",
    "    # class attribute\n",
    "    attr1 = \"mammal\"\n",
    "\n",
    "    # Instance attribute\n",
    "    def __init__(self, name):\n",
    "        self.name = name\n",
    "\n",
    "# Driver code\n",
    "# Object instantiation\n",
    "Rodger = Dog(\"Rodger\")\n",
    "Tommy = Dog(\"Tommy\")\n",
    "\n",
    "# Accessing class attributes\n",
    "print(\"Rodger is a {}\".format(Rodger.__class__.attr1))\n",
    "print(\"Tommy is also a {}\".format(Tommy.__class__.attr1))\n",
    "\n",
    "# Accessing instance attributes\n",
    "print(\"My name is {}\".format(Rodger.name))\n",
    "print(\"My name is {}\".format(Tommy.name))"
   ]
  },
  {
   "cell_type": "code",
   "execution_count": 2,
   "id": "3a9bec3c",
   "metadata": {},
   "outputs": [
    {
     "name": "stdout",
     "output_type": "stream",
     "text": [
      "Rodger is a mammal\n",
      "Tommy is also a mammal\n",
      "My name is Rodger\n",
      "My name is Tommy\n"
     ]
    }
   ],
   "source": [
    "class Dog:\n",
    "\n",
    "    # class attribute\n",
    "    attr1 = \"mammal\"\n",
    "\n",
    "    # Instance attribute\n",
    "    def __init__(self, name):\n",
    "        self.name = name\n",
    "\n",
    "# Driver code\n",
    "# Object instantiation\n",
    "Rodger = Dog(\"Rodger\")\n",
    "Tommy = Dog(\"Tommy\")\n",
    "\n",
    "# Accessing class attributes\n",
    "print(\"Rodger is a {}\".format(Rodger.__class__.attr1))\n",
    "print(\"Tommy is also a {}\".format(Tommy.__class__.attr1))\n",
    "\n",
    "# Accessing instance attributes\n",
    "print(\"My name is {}\".format(Rodger.name))\n",
    "print(\"My name is {}\".format(Tommy.name))"
   ]
  },
  {
   "cell_type": "code",
   "execution_count": 1,
   "id": "eb205950",
   "metadata": {},
   "outputs": [
    {
     "name": "stdout",
     "output_type": "stream",
     "text": [
      "Rodger is a mammal\n",
      "Tommy is also a mammal\n",
      "My name is Rodger\n",
      "My name is Tommy\n"
     ]
    }
   ],
   "source": [
    "class Dog:\n",
    "\n",
    "    # class attribute\n",
    "    attr1 = \"mammal\"\n",
    "\n",
    "    # Instance attribute\n",
    "    def __init__(self, name):\n",
    "        self.name = name\n",
    "\n",
    "# Driver code\n",
    "# Object instantiation\n",
    "Rodger = Dog(\"Rodger\")\n",
    "Tommy = Dog(\"Tommy\")\n",
    "\n",
    "# Accessing class attributes\n",
    "print(\"Rodger is a {}\".format(Rodger.__class__.attr1))\n",
    "print(\"Tommy is also a {}\".format(Tommy.__class__.attr1))\n",
    "\n",
    "# Accessing instance attributes\n",
    "print(\"My name is {}\".format(Rodger.name))\n",
    "print(\"My name is {}\".format(Tommy.name))"
   ]
  },
  {
   "cell_type": "code",
   "execution_count": 2,
   "id": "fbfeafeb",
   "metadata": {},
   "outputs": [
    {
     "name": "stdout",
     "output_type": "stream",
     "text": [
      "I have 3 sides\n",
      "I have 4 sides\n",
      "I have 5 sides\n",
      "I have 6 sides\n"
     ]
    }
   ],
   "source": [
    "# Python program showing\n",
    "# abstract base class work\n",
    "from abc import ABC, abstractmethod\n",
    "\n",
    "\n",
    "class Polygon(ABC):\n",
    "\n",
    "    @abstractmethod\n",
    "    def noofsides(self):\n",
    "        pass\n",
    "\n",
    "\n",
    "class Triangle(Polygon):\n",
    "\n",
    "    # overriding abstract method\n",
    "    def noofsides(self):\n",
    "        print(\"I have 3 sides\")\n",
    "\n",
    "\n",
    "class Pentagon(Polygon):\n",
    "\n",
    "    # overriding abstract method\n",
    "    def noofsides(self):\n",
    "        print(\"I have 5 sides\")\n",
    "\n",
    "\n",
    "class Hexagon(Polygon):\n",
    "\n",
    "    # overriding abstract method\n",
    "    def noofsides(self):\n",
    "        print(\"I have 6 sides\")\n",
    "\n",
    "\n",
    "class Quadrilateral(Polygon):\n",
    "\n",
    "    # overriding abstract method\n",
    "    def noofsides(self):\n",
    "        print(\"I have 4 sides\")\n",
    "\n",
    "\n",
    "# Driver code\n",
    "R = Triangle()\n",
    "R.noofsides()\n",
    "\n",
    "K = Quadrilateral()\n",
    "K.noofsides()\n",
    "\n",
    "R = Pentagon()\n",
    "R.noofsides()\n",
    "\n",
    "K = Hexagon()\n",
    "K.noofsides()\n"
   ]
  },
  {
   "cell_type": "code",
   "execution_count": 1,
   "id": "e65eceb8",
   "metadata": {},
   "outputs": [
    {
     "name": "stdout",
     "output_type": "stream",
     "text": [
      "John Doe\n"
     ]
    }
   ],
   "source": [
    "class Person:\n",
    "  def __init__(self, fname, lname):\n",
    "    self.firstname = fname\n",
    "    self.lastname = lname\n",
    "\n",
    "  def printname(self):\n",
    "    print(self.firstname, self.lastname)\n",
    "\n",
    "#Use the Person class to create an object, and then execute the printname method:\n",
    "\n",
    "x = Person(\"John\", \"Doe\")\n",
    "x.printname()"
   ]
  },
  {
   "cell_type": "code",
   "execution_count": 1,
   "id": "f34cb4df",
   "metadata": {},
   "outputs": [
    {
     "name": "stdout",
     "output_type": "stream",
     "text": [
      "John Doe\n"
     ]
    }
   ],
   "source": [
    "class Person:\n",
    "  def __init__(self, fname, lname):\n",
    "    self.firstname = fname\n",
    "    self.lastname = lname\n",
    "\n",
    "  def printname(self):\n",
    "    print(self.firstname, self.lastname)\n",
    "\n",
    "#Use the Person class to create an object, and then execute the printname method:\n",
    "\n",
    "x = Person(\"John\", \"Doe\")\n",
    "x.printname()"
   ]
  },
  {
   "cell_type": "code",
   "execution_count": null,
   "id": "a3aa5bbb",
   "metadata": {},
   "outputs": [],
   "source": []
  }
 ],
 "metadata": {
  "kernelspec": {
   "display_name": "Python 3 (ipykernel)",
   "language": "python",
   "name": "python3"
  },
  "language_info": {
   "codemirror_mode": {
    "name": "ipython",
    "version": 3
   },
   "file_extension": ".py",
   "mimetype": "text/x-python",
   "name": "python",
   "nbconvert_exporter": "python",
   "pygments_lexer": "ipython3",
   "version": "3.11.5"
  }
 },
 "nbformat": 4,
 "nbformat_minor": 5
}
