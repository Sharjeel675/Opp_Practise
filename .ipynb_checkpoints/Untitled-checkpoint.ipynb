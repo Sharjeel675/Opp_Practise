{
 "cells": [
  {
   "cell_type": "code",
   "execution_count": 2,
   "id": "cf950660",
   "metadata": {},
   "outputs": [
    {
     "name": "stdout",
     "output_type": "stream",
     "text": [
      "Please Enter Your Id: BAI-22S-035\n",
      "Please Enter Your Name: Sharjeel Ahmed Khan\n",
      "Please Enter Your Salary: 45000\n",
      "Employee.id BAI-22S-035\n",
      "Employee name Sharjeel Ahmed Khan\n",
      "Employee Salary 45000.0\n"
     ]
    }
   ],
   "source": [
    "class Employee:\n",
    "    def Input_data(self):\n",
    "        self.id = str(input(\"Please Enter Your Id: \"))\n",
    "        self.name = str(input(\"Please Enter Your Name: \"))\n",
    "        self.salary = float(input(\"Please Enter Your Salary: \"))\n",
    "    def display(self):\n",
    "        print('Employee.id',self.id)\n",
    "        print('Employee name',self.name)\n",
    "        print('Employee Salary',self.salary)\n",
    "x = Employee()\n",
    "x.Input_data()\n",
    "x.display()"
   ]
  },
  {
   "cell_type": "code",
   "execution_count": null,
   "id": "8efbcf00",
   "metadata": {},
   "outputs": [],
   "source": []
  },
  {
   "cell_type": "code",
   "execution_count": null,
   "id": "af9d27da",
   "metadata": {},
   "outputs": [],
   "source": []
  }
 ],
 "metadata": {
  "kernelspec": {
   "display_name": "Python 3 (ipykernel)",
   "language": "python",
   "name": "python3"
  },
  "language_info": {
   "codemirror_mode": {
    "name": "ipython",
    "version": 3
   },
   "file_extension": ".py",
   "mimetype": "text/x-python",
   "name": "python",
   "nbconvert_exporter": "python",
   "pygments_lexer": "ipython3",
   "version": "3.11.5"
  }
 },
 "nbformat": 4,
 "nbformat_minor": 5
}
