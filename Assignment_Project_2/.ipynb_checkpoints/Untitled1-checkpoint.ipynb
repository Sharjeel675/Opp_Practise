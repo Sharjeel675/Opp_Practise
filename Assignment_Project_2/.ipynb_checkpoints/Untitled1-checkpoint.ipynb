{
 "cells": [
  {
   "cell_type": "code",
   "execution_count": null,
   "id": "29330d29",
   "metadata": {},
   "outputs": [],
   "source": [
    "from selenium import webdriver\n",
    "from selenium.webdriver.common.keys import Keys\n",
    "from selenium.webdriver.common.by import By\n",
    "\n",
    "driver = webdriver.Chrome()\n",
    "driver.get(\"http://www.python.org\")\n",
    "assert \"Python\" in driver.title\n",
    "elem = driver.find_element(By.NAME, \"q\")\n",
    "elem.clear()\n",
    "\n",
    "\n",
    "\n",
    "elem.send_keys(\"pycon\")\n",
    "elem.send_keys(Keys.RETURN)\n",
    "assert \"No results found.\" not in driver.page_source\n",
    "driver.close()"
   ]
  },
  {
   "cell_type": "code",
   "execution_count": null,
   "id": "6106a13c",
   "metadata": {},
   "outputs": [],
   "source": [
    "import time\n",
    "import pandas as pd\n",
    "from selenium import webdriver\n",
    "from selenium.webdriver.chrome.service import Service\n",
    "from selenium.webdriver.common.by import By\n",
    "from webdriver_manager.chrome import ChromeDriverManager\n",
    "\n",
    "# URL to scrape\n",
    "URL = \"https://www.flipkart.com/search?q=watches\"\n",
    "\n",
    "# Function to scrape Flipkart watch data\n",
    "def scrape_flipkart_watches(url):\n",
    "    # Initialize Chrome WebDriver\n",
    "    options = webdriver.ChromeOptions()\n",
    "    options.add_argument(\"--headless\")  # Run in headless mode\n",
    "    options.add_argument(\"--disable-gpu\")\n",
    "    options.add_argument(\"--no-sandbox\")\n",
    "    \n",
    "    driver = webdriver.Chrome(service=Service(ChromeDriverManager().install()), options=options)\n",
    "    driver.get(url)\n",
    "    driver.implicitly_wait(10)\n",
    "\n",
    "    # Scroll to load more products\n",
    "    for _ in range(3):  # Scroll multiple times for better data coverage\n",
    "        driver.execute_script(\"window.scrollTo(0, document.body.scrollHeight);\")\n",
    "        time.sleep(3)\n",
    "\n",
    "    # Extract data\n",
    "    watch_titles = []\n",
    "    watch_prices = []\n",
    "    try:\n",
    "        # Find all product titles\n",
    "        title_elements = driver.find_elements(By.CSS_SELECTOR, \"a.IRpwTa\")\n",
    "        for title in title_elements:\n",
    "            watch_titles.append(title.text)\n",
    "\n",
    "        # Find all product prices\n",
    "        price_elements = driver.find_elements(By.CSS_SELECTOR, \"div._30jeq3\")\n",
    "        for price in price_elements:\n",
    "            watch_prices.append(price.text)\n",
    "    except Exception as e:\n",
    "        print(f\"Error while scraping: {e}\")\n",
    "    \n",
    "    # Close the browser\n",
    "    driver.quit()\n",
    "\n",
    "    # Combine titles and prices into a list of dictionaries\n",
    "    watch_data = [{\"Title\": title, \"Price\": price} for title, price in zip(watch_titles, watch_prices)]\n",
    "\n",
    "    return watch_data\n",
    "\n",
    "# Function to save data to a CSV file\n",
    "def save_to_csv(data, filename):\n",
    "    df = pd.DataFrame(data)\n",
    "    df.to_csv(filename, index=False)\n",
    "    print(f\"Data saved to {filename}\")\n",
    "\n",
    "# Main function\n",
    "def main():\n",
    "    print(\"Starting Flipkart Watches Scraper...\")\n",
    "    watch_data = scrape_flipkart_watches(URL)\n",
    "    if watch_data:\n",
    "        save_to_csv(watch_data, \"flipkart_watches.csv\")\n",
    "        print(\"Scraping completed successfully!\")\n",
    "    else:\n",
    "        print(\"No data found.\")\n",
    "\n",
    "# Run the script\n",
    "if __name__ == \"__main__\":\n",
    "    main()\n"
   ]
  },
  {
   "cell_type": "code",
   "execution_count": null,
   "id": "23e528ca",
   "metadata": {},
   "outputs": [],
   "source": []
  },
  {
   "cell_type": "code",
   "execution_count": null,
   "id": "24b14a72",
   "metadata": {},
   "outputs": [],
   "source": []
  },
  {
   "cell_type": "code",
   "execution_count": null,
   "id": "7cf9eb56",
   "metadata": {},
   "outputs": [],
   "source": [
    "url = 'https://www.flipkart.com/search?q=watch&otracker=search&otracker1=search&marketplace=FLIPKART&as-show=off&as=off'"
   ]
  },
  {
   "cell_type": "code",
   "execution_count": null,
   "id": "358e02aa",
   "metadata": {},
   "outputs": [],
   "source": [
    "url"
   ]
  },
  {
   "cell_type": "code",
   "execution_count": null,
   "id": "3c804477",
   "metadata": {},
   "outputs": [],
   "source": [
    "import requests\n",
    "import pandas as pd\n",
    "from bs4 import BeautifulSoup "
   ]
  },
  {
   "cell_type": "code",
   "execution_count": null,
   "id": "cee25edd",
   "metadata": {},
   "outputs": [],
   "source": [
    "r = requests.get(url)"
   ]
  },
  {
   "cell_type": "code",
   "execution_count": null,
   "id": "76f25274",
   "metadata": {},
   "outputs": [],
   "source": [
    "\n",
    "r"
   ]
  },
  {
   "cell_type": "code",
   "execution_count": null,
   "id": "604d167c",
   "metadata": {},
   "outputs": [],
   "source": [
    "soup = BeautifulSoup(r.text,'lxml' )\n",
    "print(soup)"
   ]
  },
  {
   "cell_type": "code",
   "execution_count": null,
   "id": "47293990",
   "metadata": {},
   "outputs": [],
   "source": [
    "soup = BeautifulSoup(r.text,'lxml' )\n",
    "print(soup)"
   ]
  },
  {
   "cell_type": "code",
   "execution_count": null,
   "id": "bcae9df0",
   "metadata": {},
   "outputs": [],
   "source": [
    "name = soup.find_all('a',class_='WKTcLC')\n",
    "print(name)"
   ]
  },
  {
   "cell_type": "code",
   "execution_count": null,
   "id": "8bebd976",
   "metadata": {},
   "outputs": [],
   "source": [
    "Product_name = []\n",
    "for i in name:\n",
    "    Pro_name = i.text\n",
    "    Product_name.append(Pro_name)"
   ]
  },
  {
   "cell_type": "code",
   "execution_count": null,
   "id": "b692cdb3",
   "metadata": {},
   "outputs": [],
   "source": [
    "Product_name"
   ]
  },
  {
   "cell_type": "code",
   "execution_count": null,
   "id": "61b9a075",
   "metadata": {},
   "outputs": [],
   "source": [
    "len(Product_name)"
   ]
  },
  {
   "cell_type": "code",
   "execution_count": null,
   "id": "7e65029f",
   "metadata": {},
   "outputs": [],
   "source": [
    "price = soup.find_all('div',class_='Nx9bqj')\n",
    "price"
   ]
  },
  {
   "cell_type": "code",
   "execution_count": null,
   "id": "3f9bc968",
   "metadata": {},
   "outputs": [],
   "source": [
    "len(price)"
   ]
  },
  {
   "cell_type": "code",
   "execution_count": null,
   "id": "a92eae91",
   "metadata": {},
   "outputs": [],
   "source": [
    "filtered_elements = [div for div in price if div['class'] == ['Nx9bqj']]\n",
    "filtered_elements"
   ]
  },
  {
   "cell_type": "code",
   "execution_count": null,
   "id": "b8025a4f",
   "metadata": {},
   "outputs": [],
   "source": [
    "len(filtered_elements)"
   ]
  },
  {
   "cell_type": "code",
   "execution_count": null,
   "id": "6367ecaa",
   "metadata": {},
   "outputs": [],
   "source": [
    "prices = []\n",
    "\n",
    "for i in filtered_elements:\n",
    "    # print(i.text)\n",
    "    pro_price = i.text\n",
    "    prices.append(pro_price)"
   ]
  },
  {
   "cell_type": "code",
   "execution_count": null,
   "id": "24c45513",
   "metadata": {},
   "outputs": [],
   "source": [
    "prices"
   ]
  },
  {
   "cell_type": "code",
   "execution_count": null,
   "id": "848d07c1",
   "metadata": {},
   "outputs": [],
   "source": [
    "Product_name"
   ]
  },
  {
   "cell_type": "code",
   "execution_count": null,
   "id": "92843b2d",
   "metadata": {},
   "outputs": [],
   "source": [
    "df = pd.DataFrame({\"Product_name\":Product_name,'Prices':prices})\n",
    "df"
   ]
  },
  {
   "cell_type": "code",
   "execution_count": null,
   "id": "fc0d311c",
   "metadata": {},
   "outputs": [],
   "source": []
  },
  {
   "cell_type": "code",
   "execution_count": null,
   "id": "ac0c6d2d",
   "metadata": {},
   "outputs": [],
   "source": []
  },
  {
   "cell_type": "code",
   "execution_count": null,
   "id": "f09bc2e4",
   "metadata": {},
   "outputs": [],
   "source": []
  },
  {
   "cell_type": "code",
   "execution_count": 3,
   "id": "633bf4ef",
   "metadata": {},
   "outputs": [
    {
     "ename": "ValueError",
     "evalue": "All arrays must be of the same length",
     "output_type": "error",
     "traceback": [
      "\u001b[1;31m---------------------------------------------------------------------------\u001b[0m",
      "\u001b[1;31mValueError\u001b[0m                                Traceback (most recent call last)",
      "Cell \u001b[1;32mIn[3], line 34\u001b[0m\n\u001b[0;32m     31\u001b[0m     prices\u001b[38;5;241m.\u001b[39mappend(price\u001b[38;5;241m.\u001b[39mtext)\n\u001b[0;32m     33\u001b[0m \u001b[38;5;66;03m# Create a DataFrame to store the product names and prices\u001b[39;00m\n\u001b[1;32m---> 34\u001b[0m df \u001b[38;5;241m=\u001b[39m pd\u001b[38;5;241m.\u001b[39mDataFrame({\u001b[38;5;124m\"\u001b[39m\u001b[38;5;124mProduct_name\u001b[39m\u001b[38;5;124m\"\u001b[39m: product_names, \u001b[38;5;124m'\u001b[39m\u001b[38;5;124mPrices\u001b[39m\u001b[38;5;124m'\u001b[39m: prices})\n\u001b[0;32m     36\u001b[0m \u001b[38;5;66;03m# Show the DataFrame\u001b[39;00m\n\u001b[0;32m     37\u001b[0m \u001b[38;5;28mprint\u001b[39m(df)\n",
      "File \u001b[1;32m~\\AppData\\Roaming\\Python\\Python311\\site-packages\\pandas\\core\\frame.py:778\u001b[0m, in \u001b[0;36mDataFrame.__init__\u001b[1;34m(self, data, index, columns, dtype, copy)\u001b[0m\n\u001b[0;32m    772\u001b[0m     mgr \u001b[38;5;241m=\u001b[39m \u001b[38;5;28mself\u001b[39m\u001b[38;5;241m.\u001b[39m_init_mgr(\n\u001b[0;32m    773\u001b[0m         data, axes\u001b[38;5;241m=\u001b[39m{\u001b[38;5;124m\"\u001b[39m\u001b[38;5;124mindex\u001b[39m\u001b[38;5;124m\"\u001b[39m: index, \u001b[38;5;124m\"\u001b[39m\u001b[38;5;124mcolumns\u001b[39m\u001b[38;5;124m\"\u001b[39m: columns}, dtype\u001b[38;5;241m=\u001b[39mdtype, copy\u001b[38;5;241m=\u001b[39mcopy\n\u001b[0;32m    774\u001b[0m     )\n\u001b[0;32m    776\u001b[0m \u001b[38;5;28;01melif\u001b[39;00m \u001b[38;5;28misinstance\u001b[39m(data, \u001b[38;5;28mdict\u001b[39m):\n\u001b[0;32m    777\u001b[0m     \u001b[38;5;66;03m# GH#38939 de facto copy defaults to False only in non-dict cases\u001b[39;00m\n\u001b[1;32m--> 778\u001b[0m     mgr \u001b[38;5;241m=\u001b[39m dict_to_mgr(data, index, columns, dtype\u001b[38;5;241m=\u001b[39mdtype, copy\u001b[38;5;241m=\u001b[39mcopy, typ\u001b[38;5;241m=\u001b[39mmanager)\n\u001b[0;32m    779\u001b[0m \u001b[38;5;28;01melif\u001b[39;00m \u001b[38;5;28misinstance\u001b[39m(data, ma\u001b[38;5;241m.\u001b[39mMaskedArray):\n\u001b[0;32m    780\u001b[0m     \u001b[38;5;28;01mfrom\u001b[39;00m \u001b[38;5;21;01mnumpy\u001b[39;00m\u001b[38;5;21;01m.\u001b[39;00m\u001b[38;5;21;01mma\u001b[39;00m \u001b[38;5;28;01mimport\u001b[39;00m mrecords\n",
      "File \u001b[1;32m~\\AppData\\Roaming\\Python\\Python311\\site-packages\\pandas\\core\\internals\\construction.py:503\u001b[0m, in \u001b[0;36mdict_to_mgr\u001b[1;34m(data, index, columns, dtype, typ, copy)\u001b[0m\n\u001b[0;32m    499\u001b[0m     \u001b[38;5;28;01melse\u001b[39;00m:\n\u001b[0;32m    500\u001b[0m         \u001b[38;5;66;03m# dtype check to exclude e.g. range objects, scalars\u001b[39;00m\n\u001b[0;32m    501\u001b[0m         arrays \u001b[38;5;241m=\u001b[39m [x\u001b[38;5;241m.\u001b[39mcopy() \u001b[38;5;28;01mif\u001b[39;00m \u001b[38;5;28mhasattr\u001b[39m(x, \u001b[38;5;124m\"\u001b[39m\u001b[38;5;124mdtype\u001b[39m\u001b[38;5;124m\"\u001b[39m) \u001b[38;5;28;01melse\u001b[39;00m x \u001b[38;5;28;01mfor\u001b[39;00m x \u001b[38;5;129;01min\u001b[39;00m arrays]\n\u001b[1;32m--> 503\u001b[0m \u001b[38;5;28;01mreturn\u001b[39;00m arrays_to_mgr(arrays, columns, index, dtype\u001b[38;5;241m=\u001b[39mdtype, typ\u001b[38;5;241m=\u001b[39mtyp, consolidate\u001b[38;5;241m=\u001b[39mcopy)\n",
      "File \u001b[1;32m~\\AppData\\Roaming\\Python\\Python311\\site-packages\\pandas\\core\\internals\\construction.py:114\u001b[0m, in \u001b[0;36marrays_to_mgr\u001b[1;34m(arrays, columns, index, dtype, verify_integrity, typ, consolidate)\u001b[0m\n\u001b[0;32m    111\u001b[0m \u001b[38;5;28;01mif\u001b[39;00m verify_integrity:\n\u001b[0;32m    112\u001b[0m     \u001b[38;5;66;03m# figure out the index, if necessary\u001b[39;00m\n\u001b[0;32m    113\u001b[0m     \u001b[38;5;28;01mif\u001b[39;00m index \u001b[38;5;129;01mis\u001b[39;00m \u001b[38;5;28;01mNone\u001b[39;00m:\n\u001b[1;32m--> 114\u001b[0m         index \u001b[38;5;241m=\u001b[39m _extract_index(arrays)\n\u001b[0;32m    115\u001b[0m     \u001b[38;5;28;01melse\u001b[39;00m:\n\u001b[0;32m    116\u001b[0m         index \u001b[38;5;241m=\u001b[39m ensure_index(index)\n",
      "File \u001b[1;32m~\\AppData\\Roaming\\Python\\Python311\\site-packages\\pandas\\core\\internals\\construction.py:677\u001b[0m, in \u001b[0;36m_extract_index\u001b[1;34m(data)\u001b[0m\n\u001b[0;32m    675\u001b[0m lengths \u001b[38;5;241m=\u001b[39m \u001b[38;5;28mlist\u001b[39m(\u001b[38;5;28mset\u001b[39m(raw_lengths))\n\u001b[0;32m    676\u001b[0m \u001b[38;5;28;01mif\u001b[39;00m \u001b[38;5;28mlen\u001b[39m(lengths) \u001b[38;5;241m>\u001b[39m \u001b[38;5;241m1\u001b[39m:\n\u001b[1;32m--> 677\u001b[0m     \u001b[38;5;28;01mraise\u001b[39;00m \u001b[38;5;167;01mValueError\u001b[39;00m(\u001b[38;5;124m\"\u001b[39m\u001b[38;5;124mAll arrays must be of the same length\u001b[39m\u001b[38;5;124m\"\u001b[39m)\n\u001b[0;32m    679\u001b[0m \u001b[38;5;28;01mif\u001b[39;00m have_dicts:\n\u001b[0;32m    680\u001b[0m     \u001b[38;5;28;01mraise\u001b[39;00m \u001b[38;5;167;01mValueError\u001b[39;00m(\n\u001b[0;32m    681\u001b[0m         \u001b[38;5;124m\"\u001b[39m\u001b[38;5;124mMixing dicts with non-Series may lead to ambiguous ordering.\u001b[39m\u001b[38;5;124m\"\u001b[39m\n\u001b[0;32m    682\u001b[0m     )\n",
      "\u001b[1;31mValueError\u001b[0m: All arrays must be of the same length"
     ]
    }
   ],
   "source": [
    "from selenium import webdriver\n",
    "from selenium.webdriver.common.by import By\n",
    "import pandas as pd\n",
    "from webdriver_manager.chrome import ChromeDriverManager\n",
    "from selenium.webdriver.chrome.service import Service\n",
    "import time\n",
    "\n",
    "# Setup WebDriver with correct initialization\n",
    "service = Service(ChromeDriverManager().install())\n",
    "driver = webdriver.Chrome(service=service)\n",
    "\n",
    "# URL to scrape\n",
    "url = 'https://www.flipkart.com/search?q=watch&otracker=search&otracker1=search&marketplace=FLIPKART&as-show=off&as=off'\n",
    "\n",
    "# Navigate to the page\n",
    "driver.get(url)\n",
    "\n",
    "# Wait for the page to load completely\n",
    "time.sleep(3)  # You may adjust this value if necessary\n",
    "\n",
    "# Scrape product names\n",
    "product_names = []\n",
    "name_elements = driver.find_elements(By.CLASS_NAME, 'WKTcLC')\n",
    "for name in name_elements:\n",
    "    product_names.append(name.text)\n",
    "\n",
    "# Scrape product prices\n",
    "prices = []\n",
    "price_elements = driver.find_elements(By.CLASS_NAME, 'Nx9bqj')\n",
    "for price in price_elements:\n",
    "    prices.append(price.text)\n",
    "\n",
    "# Create a DataFrame to store the product names and prices\n",
    "df = pd.DataFrame({\"Product_name\": product_names, 'Prices': prices})\n",
    "\n",
    "# Show the DataFrame\n",
    "print(df)\n",
    "\n",
    "# Close the driver\n",
    "driver.quit()\n"
   ]
  },
  {
   "cell_type": "code",
   "execution_count": 4,
   "id": "d7876d40",
   "metadata": {},
   "outputs": [
    {
     "name": "stdout",
     "output_type": "stream",
     "text": [
      "Warning: Lengths do not match. Product names: 40, Prices: 41\n"
     ]
    }
   ],
   "source": [
    "from selenium import webdriver\n",
    "from selenium.webdriver.common.by import By\n",
    "import pandas as pd\n",
    "from webdriver_manager.chrome import ChromeDriverManager\n",
    "from selenium.webdriver.chrome.service import Service\n",
    "import time\n",
    "\n",
    "# Setup WebDriver with correct initialization\n",
    "service = Service(ChromeDriverManager().install())\n",
    "driver = webdriver.Chrome(service=service)\n",
    "\n",
    "# URL to scrape\n",
    "url = 'https://www.flipkart.com/search?q=watch&otracker=search&otracker1=search&marketplace=FLIPKART&as-show=off&as=off'\n",
    "\n",
    "# Navigate to the page\n",
    "driver.get(url)\n",
    "\n",
    "# Wait for the page to load completely\n",
    "time.sleep(3)  # You may adjust this value if necessary\n",
    "\n",
    "# Scrape product names\n",
    "product_names = []\n",
    "name_elements = driver.find_elements(By.CLASS_NAME, 'WKTcLC')\n",
    "for name in name_elements:\n",
    "    product_names.append(name.text)\n",
    "\n",
    "# Scrape product prices\n",
    "prices = []\n",
    "price_elements = driver.find_elements(By.CLASS_NAME, 'Nx9bqj')\n",
    "for price in price_elements:\n",
    "    prices.append(price.text)\n",
    "\n",
    "# Check if the lengths are the same\n",
    "if len(product_names) == len(prices):\n",
    "    # Create a DataFrame to store the product names and prices\n",
    "    df = pd.DataFrame({\"Product_name\": product_names, 'Prices': prices})\n",
    "else:\n",
    "    # Handle the case where lengths do not match\n",
    "    print(f\"Warning: Lengths do not match. Product names: {len(product_names)}, Prices: {len(prices)}\")\n",
    "\n",
    "# Show the DataFrame if lengths match\n",
    "if len(product_names) == len(prices):\n",
    "    print(df)\n",
    "\n",
    "# Close the driver\n",
    "driver.quit()\n"
   ]
  },
  {
   "cell_type": "code",
   "execution_count": 10,
   "id": "806ea99f",
   "metadata": {},
   "outputs": [
    {
     "name": "stdout",
     "output_type": "stream",
     "text": [
      "                                         Product_name  Prices\n",
      "0     Digital Watch - For Boys G80 Day & Date Display    ₹229\n",
      "1   Day and Date Functioning Olive Green Dial Meta...    ₹299\n",
      "2   Silver Dial Stainless Steel Analog Watch - For...    ₹579\n",
      "3   luxury lion FOREST curved golden dial bracelet...    ₹219\n",
      "4   FOREST LUXURY FASHION LION Analog Watch - For ...  ₹2,799\n",
      "5   #Unique Analoge watch Series men and boys Anal...  ₹2,799\n",
      "6   3002 Analog Watch - For Men Stylish Gold Quart...  ₹1,695\n",
      "7   3002 Analog Watch - For Men Golden Perfection:...    ₹249\n",
      "8   Vintage A158WA-1DF Black Dial Silver Stainless...    ₹319\n",
      "9   Mesh Strap Multicolor Dial Quartz Analog Watch...    ₹265\n",
      "10  2038-WH Day and Date Analog Watch - For Men 20...    ₹351\n",
      "11  Analog Watch - For Men Combo Pack Of 2 New Arr...  ₹2,799\n",
      "12  Trending Day & Date Functioning for Boys Analo...  ₹1,499\n",
      "13  3002 Analog Watch - For Men Golden Perfection:...    ₹629\n",
      "14                   Analog Watch - For Men PE000017B    ₹329\n",
      "15  Blue Dial Stainless Steel Analog Watch - For M...    ₹299\n",
      "16  2046-BK Day and Date Analog Watch - For Men 20...  ₹2,799\n",
      "17  Brown Day and Date Functioning Check Pattern S...  ₹1,079\n",
      "18  3002 Analog Watch - For Men Rose Gold Quartz W...    ₹288\n",
      "19                 Analog Watch - For Women VH000008C    ₹330\n",
      "20  Men Analog Watch - For Men LD-BK0054-OCEAN Sil...  ₹1,049\n",
      "21  Trending Day & Date Series Stainless Steel Cha...    ₹359\n",
      "22                   Analog Watch - For Men AS000010E  ₹1,459\n",
      "23  Trending Premium Quality Day & Date Functionin...  ₹1,019\n",
      "24       Karishma Analog Watch - For Women NP2598WM03    ₹301\n",
      "25                   Analog Watch - For Men AS000010F    ₹345\n",
      "26  Wrist Watch Sport Watch with Black strap & Wat...    ₹895\n",
      "27  Combo Analog Watch - For Men Abx8010-Gents Exc...    ₹259\n",
      "28  3002 Analog Watch - For Men Rose Gold Quartz W...    ₹259\n",
      "29       Minimalists Analog Watch - For Men 38024PP25  ₹4,909\n",
      "30  Date N Day Analog Watch - For Boys AR-101-WHT New  ₹1,299\n",
      "31  Magnet Rose Gold Analog Watch - For Girls Quee...    ₹949\n",
      "32                RHETT Analog Watch - For Men BQ1009    ₹319\n",
      "33                    Analog Watch - For Men 3240SL02    ₹229\n",
      "34  3002 Analog Watch - For Men Rose Gold Quartz W...    ₹609\n",
      "35                  Analog Watch - For Men NP7007YM02  ₹1,059\n",
      "36  2047-WH Working Day and Date Analog Watch - Fo...    ₹259\n",
      "37  Sport Watch Ultra Watch with LED square & Wate...    ₹949\n",
      "38  Blue Dial Leather Strap Analog Watch - For Men...    ₹288\n",
      "39  ENTICER Analog Watch - For Men A2036 (MTP-V005...    ₹259\n"
     ]
    }
   ],
   "source": [
    "from selenium import webdriver\n",
    "from selenium.webdriver.common.by import By\n",
    "import pandas as pd\n",
    "from webdriver_manager.chrome import ChromeDriverManager\n",
    "from selenium.webdriver.chrome.service import Service\n",
    "import time\n",
    "\n",
    "# Setup WebDriver with correct initialization\n",
    "service = Service(ChromeDriverManager().install())\n",
    "driver = webdriver.Chrome(service=service)\n",
    "\n",
    "# URL to scrape\n",
    "url = 'https://www.flipkart.com/search?q=watch&otracker=search&otracker1=search&marketplace=FLIPKART&as-show=off&as=off'\n",
    "\n",
    "# Navigate to the page\n",
    "driver.get(url)\n",
    "\n",
    "# Wait for the page to load completely\n",
    "time.sleep(3)  # You may adjust this value if necessary\n",
    "\n",
    "# Scrape product names\n",
    "product_names = []\n",
    "name_elements = driver.find_elements(By.CLASS_NAME, 'WKTcLC')\n",
    "for name in name_elements:\n",
    "    product_names.append(name.text)\n",
    "\n",
    "# Scrape product prices\n",
    "prices = []\n",
    "price_elements = driver.find_elements(By.CLASS_NAME, 'Nx9bqj')\n",
    "for price in price_elements:\n",
    "    prices.append(price.text)\n",
    "\n",
    "# Handle mismatch by trimming the longer list to match the shorter one\n",
    "min_length = min(len(product_names), len(prices))\n",
    "product_names = product_names[:min_length]\n",
    "prices = prices[:min_length]\n",
    "\n",
    "# Create a DataFrame to store the product names and prices\n",
    "df = pd.DataFrame({\"Product_name\": product_names, 'Prices': prices})\n",
    "\n",
    "# Show the DataFrame\n",
    "print(df)\n",
    "\n",
    "# Close the driver\n",
    "driver.quit()\n"
   ]
  },
  {
   "cell_type": "code",
   "execution_count": 11,
   "id": "c9686e65",
   "metadata": {},
   "outputs": [
    {
     "name": "stdout",
     "output_type": "stream",
     "text": [
      "Length of Product_name: 40\n",
      "Length of Prices: 40\n",
      "                                         Product_name  Prices\n",
      "0     Digital Watch - For Boys G80 Day & Date Display    ₹229\n",
      "1   Premium-ladies Analog Watch - For Women DK11637-5  ₹3,234\n",
      "2   Silver Dial Stainless Steel Analog Watch - For...    ₹579\n",
      "3   luxury lion FOREST curved golden dial bracelet...    ₹219\n",
      "4   FOREST LUXURY FASHION LION Analog Watch - For ...  ₹2,799\n",
      "5   #Unique Analoge watch Series men and boys Anal...  ₹2,799\n",
      "6   3002 Analog Watch - For Men Stylish Gold Quart...  ₹1,695\n",
      "7   3002 Analog Watch - For Men Golden Perfection:...    ₹249\n",
      "8   Vintage A158WA-1DF Black Dial Silver Stainless...    ₹319\n",
      "9   Mesh Strap Multicolor Dial Quartz Analog Watch...    ₹299\n",
      "10  2038-WH Day and Date Analog Watch - For Men 20...    ₹351\n",
      "11  Day and Date Functioning Olive Green Dial Meta...  ₹2,799\n",
      "12  Trending Day & Date Functioning for Boys Analo...  ₹1,499\n",
      "13  3002 Analog Watch - For Men Golden Perfection:...    ₹629\n",
      "14                   Analog Watch - For Men PE000017B    ₹265\n",
      "15  Blue Dial Stainless Steel Analog Watch - For M...    ₹329\n",
      "16  Analog Watch - For Men Combo Pack Of 2 New Arr...  ₹2,799\n",
      "17  2046-BK Day and Date Analog Watch - For Men 20...  ₹1,079\n",
      "18  3002 Analog Watch - For Men Rose Gold Quartz W...    ₹288\n",
      "19                 Analog Watch - For Women VH000008C    ₹299\n",
      "20  Men Analog Watch - For Men LD-BK0054-OCEAN Sil...  ₹1,049\n",
      "21  Brown Day and Date Functioning Check Pattern S...    ₹359\n",
      "22                   Analog Watch - For Men AS000010E  ₹1,459\n",
      "23  Trending Premium Quality Day & Date Functionin...  ₹1,019\n",
      "24       Karishma Analog Watch - For Women NP2598WM03    ₹301\n",
      "25                   Analog Watch - For Men AS000010F    ₹279\n",
      "26  Wrist Watch Sport Watch with Black strap & Wat...    ₹895\n",
      "27  Magnetic Chain magnet strap with bracelet hand...    ₹219\n",
      "28  3002 Analog Watch - For Men Rose Gold Quartz W...    ₹345\n",
      "29       Minimalists Analog Watch - For Men 38024PP25  ₹4,909\n",
      "30  #Unique Analoge watch Series men and boys Anal...  ₹1,299\n",
      "31  Combo Analog Watch - For Men Abx8010-Gents Exc...  ₹1,059\n",
      "32                RHETT Analog Watch - For Men BQ1009    ₹259\n",
      "33                    Analog Watch - For Men 3240SL02    ₹259\n",
      "34  3002 Analog Watch - For Men Rose Gold Quartz W...    ₹949\n",
      "35  ENTICER Analog Watch - For Men A2036 (MTP-V005...    ₹609\n",
      "36  Magnet Rose Gold Analog Watch - For Girls Quee...    ₹259\n",
      "37  Date N Day Analog Watch - For Boys AR-101-WHT New    ₹949\n",
      "38                  Analog Watch - For Men NP7007YM02    ₹288\n",
      "39  Blue Dial Leather Strap Analog Watch - For Men...    ₹259\n"
     ]
    }
   ],
   "source": [
    "from selenium import webdriver\n",
    "from selenium.webdriver.common.by import By\n",
    "import pandas as pd\n",
    "from webdriver_manager.chrome import ChromeDriverManager\n",
    "from selenium.webdriver.chrome.service import Service\n",
    "import time\n",
    "\n",
    "# Setup WebDriver with correct initialization\n",
    "service = Service(ChromeDriverManager().install())\n",
    "driver = webdriver.Chrome(service=service)\n",
    "\n",
    "# URL to scrape\n",
    "url = 'https://www.flipkart.com/search?q=watch&otracker=search&otracker1=search&marketplace=FLIPKART&as-show=off&as=off'\n",
    "\n",
    "# Navigate to the page\n",
    "driver.get(url)\n",
    "\n",
    "# Wait for the page to load completely\n",
    "time.sleep(3)  # You may adjust this value if necessary\n",
    "\n",
    "# Scrape product names\n",
    "Product_name = []\n",
    "name_elements = driver.find_elements(By.CLASS_NAME, 'WKTcLC')\n",
    "for name in name_elements:\n",
    "    Product_name.append(name.text)\n",
    "\n",
    "# Scrape product prices\n",
    "prices = []\n",
    "price_elements = driver.find_elements(By.CLASS_NAME, 'Nx9bqj')\n",
    "for price in price_elements:\n",
    "    prices.append(price.text)\n",
    "\n",
    "# Handle mismatch by trimming the longer list to match the shorter one\n",
    "min_length = min(len(Product_name), len(prices))\n",
    "Product_name = Product_name[:min_length]\n",
    "prices = prices[:min_length]\n",
    "\n",
    "# Print the lengths of the lists\n",
    "print(f\"Length of Product_name: {len(Product_name)}\")\n",
    "print(f\"Length of Prices: {len(prices)}\")\n",
    "\n",
    "# Create a DataFrame to store the product names and prices\n",
    "df = pd.DataFrame({\"Product_name\": Product_name, 'Prices': prices})\n",
    "\n",
    "# Save the DataFrame to an Excel file\n",
    "df.to_excel('flipcart360.xlsx', index=False)\n",
    "\n",
    "# Show the DataFrame\n",
    "print(df)\n",
    "\n",
    "# Close the driver\n",
    "driver.quit()\n"
   ]
  },
  {
   "cell_type": "code",
   "execution_count": 8,
   "id": "be5ee43c",
   "metadata": {},
   "outputs": [
    {
     "name": "stdout",
     "output_type": "stream",
     "text": [
      "0\n",
      "0\n"
     ]
    }
   ],
   "source": [
    "# import time\n",
    "# import pandas as pd\n",
    "# from selenium import webdriver\n",
    "# from selenium.webdriver.chrome.service import Service\n",
    "# from selenium.webdriver.common.by import By\n",
    "# from webdriver_manager.chrome import ChromeDriverManager\n",
    "\n",
    "# # Setup WebDriver (ensure the correct driver is used)\n",
    "# driver = webdriver.Chrome(service=Service(ChromeDriverManager().install()))\n",
    "\n",
    "# # URL to scrape\n",
    "# url = 'https://www.flipkart.com/search?q=watch&otracker=search&otracker1=search&marketplace=FLIPKART&as-show=off&as=off'\n",
    "\n",
    "# # Open the URL in the browser\n",
    "# driver.get(url)\n",
    "\n",
    "# # Wait for the page to load\n",
    "# time.sleep(5)\n",
    "\n",
    "# # Initialize empty lists to store product names and prices\n",
    "# product_names = []\n",
    "# prices = []\n",
    "\n",
    "# # Find product names (you might need to adjust the selector depending on the page structure)\n",
    "# name_elements = driver.find_elements(By.CLASS_NAME, 'IRpwTa')\n",
    "# for name in name_elements:\n",
    "#     product_names.append(name.text)\n",
    "\n",
    "# # Find product prices (you might need to adjust the selector depending on the page structure)\n",
    "# price_elements = driver.find_elements(By.CLASS_NAME, '_30jeq3')\n",
    "# for price in price_elements:\n",
    "#     prices.append(price.text)\n",
    "\n",
    "# # Make sure the lengths match, if not, handle the discrepancy\n",
    "# print(len(product_names))\n",
    "# print(len(prices))\n",
    "\n",
    "# # Create a DataFrame to store the product names and prices\n",
    "# df = pd.DataFrame({\"Product_name\": product_names, 'Prices': prices})\n",
    "\n",
    "# # Save the DataFrame to a CSV file\n",
    "# df.to_csv('flipkart_watches.csv', index=False)\n",
    "\n",
    "# # Close the driver\n",
    "# driver.quit()"
   ]
  },
  {
   "cell_type": "code",
   "execution_count": null,
   "id": "3fac7686",
   "metadata": {},
   "outputs": [],
   "source": []
  }
 ],
 "metadata": {
  "kernelspec": {
   "display_name": "Python 3 (ipykernel)",
   "language": "python",
   "name": "python3"
  },
  "language_info": {
   "codemirror_mode": {
    "name": "ipython",
    "version": 3
   },
   "file_extension": ".py",
   "mimetype": "text/x-python",
   "name": "python",
   "nbconvert_exporter": "python",
   "pygments_lexer": "ipython3",
   "version": "3.11.5"
  }
 },
 "nbformat": 4,
 "nbformat_minor": 5
}
