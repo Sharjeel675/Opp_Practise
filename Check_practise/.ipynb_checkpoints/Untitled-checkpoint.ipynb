{
 "cells": [
  {
   "cell_type": "code",
   "execution_count": 9,
   "id": "bc22301c-3916-4967-8671-2f46f8b921ef",
   "metadata": {},
   "outputs": [
    {
     "ename": "NoSuchWindowException",
     "evalue": "Message: no such window: target window already closed\nfrom unknown error: web view not found\n  (Session info: chrome=131.0.6778.265)\nStacktrace:\n\tGetHandleVerifier [0x00E0FD53+23747]\n\t(No symbol) [0x00D97D54]\n\t(No symbol) [0x00C6BE53]\n\t(No symbol) [0x00C4D91B]\n\t(No symbol) [0x00CD7EFF]\n\t(No symbol) [0x00CEAD49]\n\t(No symbol) [0x00CD1B96]\n\t(No symbol) [0x00CA3F3C]\n\t(No symbol) [0x00CA4EBD]\n\tGetHandleVerifier [0x010EAC73+3017699]\n\tGetHandleVerifier [0x010FB93B+3086507]\n\tGetHandleVerifier [0x010F40F2+3055714]\n\tGetHandleVerifier [0x00EA5AF0+637536]\n\t(No symbol) [0x00DA0A5D]\n\t(No symbol) [0x00D9DA28]\n\t(No symbol) [0x00D9DBC5]\n\t(No symbol) [0x00D907F0]\n\tBaseThreadInitThunk [0x75D8FCC9+25]\n\tRtlGetAppContainerNamedObjectPath [0x77D6809E+286]\n\tRtlGetAppContainerNamedObjectPath [0x77D6806E+238]\n",
     "output_type": "error",
     "traceback": [
      "\u001b[1;31m---------------------------------------------------------------------------\u001b[0m",
      "\u001b[1;31mNoSuchWindowException\u001b[0m                     Traceback (most recent call last)",
      "Cell \u001b[1;32mIn[9], line 19\u001b[0m\n\u001b[0;32m     16\u001b[0m time\u001b[38;5;241m.\u001b[39msleep(\u001b[38;5;241m3\u001b[39m) \n\u001b[0;32m     18\u001b[0m Product_name \u001b[38;5;241m=\u001b[39m []\n\u001b[1;32m---> 19\u001b[0m name_elements \u001b[38;5;241m=\u001b[39m driver\u001b[38;5;241m.\u001b[39mfind_elements(By\u001b[38;5;241m.\u001b[39mCLASS_NAME, \u001b[38;5;124m'\u001b[39m\u001b[38;5;124mWKTcLC\u001b[39m\u001b[38;5;124m'\u001b[39m)\n\u001b[0;32m     20\u001b[0m \u001b[38;5;28;01mfor\u001b[39;00m name \u001b[38;5;129;01min\u001b[39;00m name_elements:\n\u001b[0;32m     21\u001b[0m     Product_name\u001b[38;5;241m.\u001b[39mappend(name\u001b[38;5;241m.\u001b[39mtext)\n",
      "File \u001b[1;32m~\\anaconda3\\Lib\\site-packages\\selenium\\webdriver\\remote\\webdriver.py:792\u001b[0m, in \u001b[0;36mWebDriver.find_elements\u001b[1;34m(self, by, value)\u001b[0m\n\u001b[0;32m    788\u001b[0m     \u001b[38;5;28;01mreturn\u001b[39;00m \u001b[38;5;28mself\u001b[39m\u001b[38;5;241m.\u001b[39mexecute_script(find_element_js, by\u001b[38;5;241m.\u001b[39mto_dict())\n\u001b[0;32m    790\u001b[0m \u001b[38;5;66;03m# Return empty list if driver returns null\u001b[39;00m\n\u001b[0;32m    791\u001b[0m \u001b[38;5;66;03m# See https://github.com/SeleniumHQ/selenium/issues/4555\u001b[39;00m\n\u001b[1;32m--> 792\u001b[0m \u001b[38;5;28;01mreturn\u001b[39;00m \u001b[38;5;28mself\u001b[39m\u001b[38;5;241m.\u001b[39mexecute(Command\u001b[38;5;241m.\u001b[39mFIND_ELEMENTS, {\u001b[38;5;124m\"\u001b[39m\u001b[38;5;124musing\u001b[39m\u001b[38;5;124m\"\u001b[39m: by, \u001b[38;5;124m\"\u001b[39m\u001b[38;5;124mvalue\u001b[39m\u001b[38;5;124m\"\u001b[39m: value})[\u001b[38;5;124m\"\u001b[39m\u001b[38;5;124mvalue\u001b[39m\u001b[38;5;124m\"\u001b[39m] \u001b[38;5;129;01mor\u001b[39;00m []\n",
      "File \u001b[1;32m~\\anaconda3\\Lib\\site-packages\\selenium\\webdriver\\remote\\webdriver.py:384\u001b[0m, in \u001b[0;36mWebDriver.execute\u001b[1;34m(self, driver_command, params)\u001b[0m\n\u001b[0;32m    382\u001b[0m response \u001b[38;5;241m=\u001b[39m \u001b[38;5;28mself\u001b[39m\u001b[38;5;241m.\u001b[39mcommand_executor\u001b[38;5;241m.\u001b[39mexecute(driver_command, params)\n\u001b[0;32m    383\u001b[0m \u001b[38;5;28;01mif\u001b[39;00m response:\n\u001b[1;32m--> 384\u001b[0m     \u001b[38;5;28mself\u001b[39m\u001b[38;5;241m.\u001b[39merror_handler\u001b[38;5;241m.\u001b[39mcheck_response(response)\n\u001b[0;32m    385\u001b[0m     response[\u001b[38;5;124m\"\u001b[39m\u001b[38;5;124mvalue\u001b[39m\u001b[38;5;124m\"\u001b[39m] \u001b[38;5;241m=\u001b[39m \u001b[38;5;28mself\u001b[39m\u001b[38;5;241m.\u001b[39m_unwrap_value(response\u001b[38;5;241m.\u001b[39mget(\u001b[38;5;124m\"\u001b[39m\u001b[38;5;124mvalue\u001b[39m\u001b[38;5;124m\"\u001b[39m, \u001b[38;5;28;01mNone\u001b[39;00m))\n\u001b[0;32m    386\u001b[0m     \u001b[38;5;28;01mreturn\u001b[39;00m response\n",
      "File \u001b[1;32m~\\anaconda3\\Lib\\site-packages\\selenium\\webdriver\\remote\\errorhandler.py:232\u001b[0m, in \u001b[0;36mErrorHandler.check_response\u001b[1;34m(self, response)\u001b[0m\n\u001b[0;32m    230\u001b[0m         alert_text \u001b[38;5;241m=\u001b[39m value[\u001b[38;5;124m\"\u001b[39m\u001b[38;5;124malert\u001b[39m\u001b[38;5;124m\"\u001b[39m]\u001b[38;5;241m.\u001b[39mget(\u001b[38;5;124m\"\u001b[39m\u001b[38;5;124mtext\u001b[39m\u001b[38;5;124m\"\u001b[39m)\n\u001b[0;32m    231\u001b[0m     \u001b[38;5;28;01mraise\u001b[39;00m exception_class(message, screen, stacktrace, alert_text)  \u001b[38;5;66;03m# type: ignore[call-arg]  # mypy is not smart enough here\u001b[39;00m\n\u001b[1;32m--> 232\u001b[0m \u001b[38;5;28;01mraise\u001b[39;00m exception_class(message, screen, stacktrace)\n",
      "\u001b[1;31mNoSuchWindowException\u001b[0m: Message: no such window: target window already closed\nfrom unknown error: web view not found\n  (Session info: chrome=131.0.6778.265)\nStacktrace:\n\tGetHandleVerifier [0x00E0FD53+23747]\n\t(No symbol) [0x00D97D54]\n\t(No symbol) [0x00C6BE53]\n\t(No symbol) [0x00C4D91B]\n\t(No symbol) [0x00CD7EFF]\n\t(No symbol) [0x00CEAD49]\n\t(No symbol) [0x00CD1B96]\n\t(No symbol) [0x00CA3F3C]\n\t(No symbol) [0x00CA4EBD]\n\tGetHandleVerifier [0x010EAC73+3017699]\n\tGetHandleVerifier [0x010FB93B+3086507]\n\tGetHandleVerifier [0x010F40F2+3055714]\n\tGetHandleVerifier [0x00EA5AF0+637536]\n\t(No symbol) [0x00DA0A5D]\n\t(No symbol) [0x00D9DA28]\n\t(No symbol) [0x00D9DBC5]\n\t(No symbol) [0x00D907F0]\n\tBaseThreadInitThunk [0x75D8FCC9+25]\n\tRtlGetAppContainerNamedObjectPath [0x77D6809E+286]\n\tRtlGetAppContainerNamedObjectPath [0x77D6806E+238]\n"
     ]
    }
   ],
   "source": [
    "from selenium import webdriver\n",
    "from selenium.webdriver.common.by import By\n",
    "import pandas as pd\n",
    "from webdriver_manager.chrome import ChromeDriverManager\n",
    "from selenium.webdriver.chrome.service import Service\n",
    "import time\n",
    "\n",
    "service = Service(ChromeDriverManager().install())\n",
    "driver = webdriver.Chrome(service=service)\n",
    "\n",
    "url = 'https://www.flipkart.com/search?q=watch&otracker=search&otracker1=search&marketplace=FLIPKART&as-show=off&as=off'\n",
    "\n",
    "driver.get(url)\n",
    "\n",
    "\n",
    "time.sleep(3) \n",
    "\n",
    "Product_name = []\n",
    "name_elements = driver.find_elements(By.CLASS_NAME, 'WKTcLC')\n",
    "for name in name_elements:\n",
    "    Product_name.append(name.text)\n",
    "\n",
    "\n",
    "prices = []\n",
    "price_elements = driver.find_elements(By.CLASS_NAME, 'Nx9bqj')\n",
    "for price in price_elements:\n",
    "    prices.append(price.text)\n",
    "\n",
    "min_length = min(len(Product_name), len(prices))\n",
    "Product_name = Product_name[:min_length]\n",
    "prices = prices[:min_length]\n",
    "\n",
    "\n",
    "print(f\"Length of Product_name: {len(Product_name)}\")\n",
    "print(f\"Length of Prices: {len(prices)}\")\n",
    "\n",
    "df = pd.DataFrame({\"Product_name\": Product_name, 'Prices': prices})\n",
    "\n",
    "\n",
    "df.to_excel('flipcart360.xlsx', index=False)\n",
    "\n",
    "print(df)\n",
    "\n",
    "driver.quit()"
   ]
  },
  {
   "cell_type": "code",
   "execution_count": 15,
   "id": "f8e0317f-649f-4eb6-bd80-097f4ee9d5e7",
   "metadata": {},
   "outputs": [
    {
     "name": "stdout",
     "output_type": "stream",
     "text": [
      "Length of Product_name: 1\n",
      "Length of Prices: 1\n",
      "                         Product_name  \\\n",
      "0  Apple iPhone 13 (Midnight, 128 GB)   \n",
      "\n",
      "                                            Prices  \n",
      "0  Enter pincode to check if exchange is available  \n"
     ]
    }
   ],
   "source": [
    "\n",
    "from selenium import webdriver\n",
    "from selenium.webdriver.common.by import By\n",
    "import pandas as pd\n",
    "from webdriver_manager.chrome import ChromeDriverManager\n",
    "from selenium.webdriver.chrome.service import Service\n",
    "import time\n",
    "\n",
    "service = Service(ChromeDriverManager().install())\n",
    "driver = webdriver.Chrome(service=service)\n",
    "\n",
    "url = 'https://www.flipkart.com/apple-iphone-13-midnight-128-gb/p/itmca361aab1c5b0?pid=MOBG6VF5Q82T3XRS&lid=LSTMOBG6VF5Q82T3XRSOXJLM9&marketplace=FLIPKART&q=mobile&store=tyy%2F4io&srno=s_1_1&otracker=search&otracker1=search&fm=Search&iid=5f6ba0b4-f1a2-4ec3-ab10-0b15753464b9.MOBG6VF5Q82T3XRS.SEARCH&ppt=sp&ppn=sp&ssid=23rs9oeb5s0000001736572073034&qH=532c28d5412dd75b'\n",
    "\n",
    "driver.get(url)\n",
    "\n",
    "\n",
    "time.sleep(3) \n",
    "\n",
    "Product_name = []\n",
    "name_elements = driver.find_elements(By.CLASS_NAME, \"VU-ZEz\")\n",
    "for name in name_elements:\n",
    "    Product_name.append(name.text)\n",
    "\n",
    "\n",
    "prices = []\n",
    "price_elements = driver.find_elements(By.CLASS_NAME, 'yiggsN')\n",
    "for price in price_elements:\n",
    "    prices.append(price.text)\n",
    "\n",
    "min_length = min(len(Product_name), len(prices))\n",
    "Product_name = Product_name[:min_length]\n",
    "prices = prices[:min_length]\n",
    "\n",
    "\n",
    "print(f\"Length of Product_name: {len(Product_name)}\")\n",
    "print(f\"Length of Prices: {len(prices)}\")\n",
    "\n",
    "df = pd.DataFrame({\"Product_name\": Product_name, 'Prices': prices})\n",
    "\n",
    "\n",
    "df.to_excel('flipcart360.xlsx', index=False)\n",
    "\n",
    "print(df)\n",
    "\n",
    "driver.quit()"
   ]
  },
  {
   "cell_type": "code",
   "execution_count": null,
   "id": "71dfb80f-1876-44d1-8106-2c3499af9bcb",
   "metadata": {},
   "outputs": [],
   "source": []
  }
 ],
 "metadata": {
  "kernelspec": {
   "display_name": "Python [conda env:base] *",
   "language": "python",
   "name": "conda-base-py"
  },
  "language_info": {
   "codemirror_mode": {
    "name": "ipython",
    "version": 3
   },
   "file_extension": ".py",
   "mimetype": "text/x-python",
   "name": "python",
   "nbconvert_exporter": "python",
   "pygments_lexer": "ipython3",
   "version": "3.12.7"
  }
 },
 "nbformat": 4,
 "nbformat_minor": 5
}
